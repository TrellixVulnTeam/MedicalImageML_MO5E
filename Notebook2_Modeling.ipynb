{
 "cells": [
  {
   "cell_type": "markdown",
   "id": "a90b96c9",
   "metadata": {},
   "source": [
    "# Step 2: Modeling\n",
    "\n",
    "***Predict Brain Tissue Segmentation Masks from Brain MRI Scans***\n",
    "\n",
    "## Contents\n",
    "\n",
    "\n",
    "1. [Train Models on Sagemaker](#Train-Models-on-SageMaker)\n",
    "1. [Inference Endpoints](#Inference-Endpoint)\n",
    "1. [Model Evaluation](#Model-Evaluation)\n",
    "1. [Clean up](#Clean-up)\n",
    "\n"
   ]
  },
  {
   "cell_type": "markdown",
   "id": "f8d93d44",
   "metadata": {},
   "source": [
    "##  Import libraries  & Initialize variables \n"
   ]
  },
  {
   "cell_type": "code",
   "execution_count": 10,
   "id": "08b762c1",
   "metadata": {},
   "outputs": [],
   "source": [
    "import numpy as np\n",
    "from PIL import Image\n",
    "import boto3\n",
    "import os\n",
    "from glob import glob\n",
    "import imageio\n",
    "from sklearn.model_selection import train_test_split\n",
    "import time\n",
    "import urllib\n",
    "import tarfile\n",
    "import shutil\n",
    "import json\n",
    "import matplotlib.pyplot as plt\n",
    "\n",
    "from utils.utils import *\n",
    "%matplotlib inline"
   ]
  },
  {
   "cell_type": "code",
   "execution_count": 9,
   "id": "e7390368",
   "metadata": {},
   "outputs": [],
   "source": [
    "import sagemaker\n",
    "from sagemaker import get_execution_role\n",
    "from sagemaker.mxnet import MXNet\n",
    "import os\n",
    "\n",
    "sess = sagemaker.Session()\n",
    "sagemaker_session = sagemaker.Session()  \n",
    "\n",
    "#estimator.sagemaker_session=sagemaker_session\n",
    "role = get_execution_role()"
   ]
  },
  {
   "cell_type": "markdown",
   "id": "9df3a65e",
   "metadata": {},
   "source": [
    "## Train-Models-on-SageMaker\n",
    "### Upload data\n",
    "\n",
    "Firstly, we're going to upload the pre-processed data to S3 using the <tt>upload_data</tt> method to put the objects in a default SageMaker bucket. We're going to pass the parent directory containing the compressed files to the method, which syncs the child tree to the bucket."
   ]
  },
  {
   "cell_type": "code",
   "execution_count": 7,
   "id": "aba9d704",
   "metadata": {},
   "outputs": [],
   "source": [
    "## local path and s3 path\n",
    "\n",
    "data_bucket = sess.default_bucket()  # or <YOUR-S3-BUCKET>\n",
    "data_prefix = 'DICOM/oasis_cross-sectional_disc1.tar' # or <YOUR-S3-PREFIX>\n",
    "data_dir = './data'   #or <YOUR-DATA-DIR> in  sagemaker \n",
    "\n",
    "\n",
    "tar_gz_dir = os.path.join(data_dir, 'tar_gz')\n",
    "tar_gz_train_dir = os.path.join(tar_gz_dir, \"train\")\n",
    "tar_gz_validation_dir = os.path.join(tar_gz_dir, \"validation\")\n",
    "\n"
   ]
  },
  {
   "cell_type": "code",
   "execution_count": null,
   "id": "81e71313",
   "metadata": {},
   "outputs": [],
   "source": []
  },
  {
   "cell_type": "code",
   "execution_count": 11,
   "id": "60f76206",
   "metadata": {},
   "outputs": [
    {
     "name": "stdout",
     "output_type": "stream",
     "text": [
      "./data/tar_gz\n",
      "s3://sagemaker-us-east-1-741261399688/brain-segmentation-tar-gz\n"
     ]
    }
   ],
   "source": [
    "prefix = 'brain-segmentation-tar-gz'\n",
    "data_bucket = sagemaker_session.upload_data(path=tar_gz_dir, key_prefix=prefix) ## upload the dataset to S3 with defined path\n",
    "print(tar_gz_dir)\n",
    "print(data_bucket)"
   ]
  },
  {
   "cell_type": "markdown",
   "id": "84e24232",
   "metadata": {},
   "source": [
    "### Entry Point\n",
    "\n",
    "As mentioned, the <tt>MXNet</tt> estimator uses a default MXNet container and the user simply provides the code that defines the training.\n",
    "\n",
    "The script we'll be passing as an entry point to the estimator is <tt>brain_segmentation.py</tt>:"
   ]
  },
  {
   "cell_type": "code",
   "execution_count": 16,
   "id": "ed879b08",
   "metadata": {
    "collapsed": true,
    "jupyter": {
     "outputs_hidden": true
    }
   },
   "outputs": [
    {
     "name": "stdout",
     "output_type": "stream",
     "text": [
      "from __future__ import absolute_import\n",
      "import boto3\n",
      "import base64\n",
      "import json\n",
      "import io\n",
      "import os\n",
      "import argparse\n",
      "import mxnet as mx\n",
      "from mxnet import nd\n",
      "import numpy as np\n",
      "mx.test_utils.download(\"https://raw.github.com/drj11/pypng/main/code/png.py\", \"png.py\")\n",
      "import png\n",
      "#from sagemaker_mxnet_training.training_utils import save\n",
      "\n",
      "import tarfile\n",
      "from iterator import DataLoaderIter\n",
      "from losses_and_metrics import avg_dice_coef_metric\n",
      "from models import build_unet, build_enet\n",
      "import logging\n",
      "\n",
      "import brain_segmentation_s3_transform\n",
      "\n",
      "logging.getLogger().setLevel(logging.INFO)\n",
      "\n",
      "from inference import *\n",
      "\n",
      "def parse_args():\n",
      "    parser = argparse.ArgumentParser()\n",
      "\n",
      "    parser.add_argument(\"--batch-size\", type=int, default=8)\n",
      "    parser.add_argument(\"--epochs\", type=int, default=1)\n",
      "    parser.add_argument(\"--learning-rate\", type=float, default=0.1)\n",
      "    parser.add_argument(\"--class-weights\", type=list, default=[1.35, 17.18,  8.29, 12.42])\n",
      "    parser.add_argument(\"--network\", type=str, default=\"local\")\n",
      "    parser.add_argument(\"--instance_type\", type=str, default=\"ml.p3.2xlarge\")\n",
      "    parser.add_argument(\"--instance_count\", type=int, default=1)\n",
      "\n",
      "    parser.add_argument(\"--model-dir\", type=str, default=os.environ[\"SM_MODEL_DIR\"])\n",
      "    parser.add_argument(\"--train\", type=str, default=os.environ[\"SM_CHANNEL_TRAIN\"])\n",
      "    parser.add_argument(\"--test\", type=str, default=os.environ[\"SM_CHANNEL_TEST\"])\n",
      "\n",
      "    parser.add_argument(\"--current-host\", type=str, default=os.environ[\"SM_CURRENT_HOST\"])\n",
      "    parser.add_argument(\"--hosts\", type=list, default=json.loads(os.environ[\"SM_HOSTS\"]))\n",
      "    parser.add_argument(\"--training-env\", type=list, default=json.loads(os.environ[\"SM_TRAINING_ENV\"]))\n",
      "    print(parser.parse_args())\n",
      "    print('parser.parse_args().instance_type: ',parser.parse_args().instance_type)\n",
      "    print(\"parser.instance_count: \", parser.parse_args().instance_count)\n",
      "    print(\"parser.network: \", parser.parse_args().network)\n",
      "    return parser.parse_args()\n",
      "\n",
      "    \n",
      "###############################\n",
      "###     Training Loop       ###\n",
      "###############################\n",
      "    \n",
      "def train(current_host, training_channel, testing_channel, hyperparameters, hosts, model_dir,num_cpus, num_gpus):\n",
      "    logging.info(\"=========== Inside Train ===========\")\n",
      "    logging.info(mx.__version__)\n",
      "    \n",
      "    # Set context for compute based on instance environment\n",
      "    if num_gpus > 0:\n",
      "        ctx = [mx.gpu(i) for i in range(num_gpus)]\n",
      "    else:\n",
      "        ctx = mx.cpu()\n",
      "\n",
      "    # Set location of key-value store based on training config.\n",
      "    if len(hosts) == 1:\n",
      "        kvstore = 'device' if num_gpus > 0 else 'local'\n",
      "    else:\n",
      "        kvstore = 'dist_device_sync' if num_gpus > 0 else 'dist_sync'\n",
      "    \n",
      "    # Get hyperparameters\n",
      "    batch_size = hyperparameters.get('batch_size', 16)        \n",
      "    learning_rate = hyperparameters.get('lr', 1E-3)\n",
      "    beta1 = hyperparameters.get('beta1', 0.9)\n",
      "    beta2 = hyperparameters.get('beta2', 0.99)\n",
      "    epochs = hyperparameters.get('epochs', 100)\n",
      "    num_workers = hyperparameters.get('num_workers', 6)\n",
      "    num_classes = hyperparameters.get('num_classes', 4)\n",
      "    class_weights = hyperparameters.get(\n",
      "        'class_weights', [[1.35, 17.18, 8.29, 12.42]])\n",
      "    class_weights = np.array(class_weights)\n",
      "    network = hyperparameters.get('network', 'unet')\n",
      "    assert network == 'unet' or network == 'enet', '\"network\" hyperparameter must be one of [\"unet\", \"enet\"]'\n",
      "    \n",
      "    # Locate compressed training/validation data\n",
      "    train_dir = training_channel\n",
      "    print(train_dir)\n",
      "    validation_dir = testing_channel\n",
      "    print(validation_dir)\n",
      "    train_tars = os.listdir(train_dir)\n",
      "    validation_tars = os.listdir(validation_dir)\n",
      "    # Extract compressed image / mask pairs locally\n",
      "    for train_tar in train_tars:\n",
      "        with tarfile.open(os.path.join(train_dir, train_tar), 'r:gz') as f:\n",
      "            f.extractall(train_dir)\n",
      "    print(\"extracted all the files for training!\")\n",
      "    for validation_tar in validation_tars:\n",
      "        with tarfile.open(os.path.join(validation_dir, validation_tar), 'r:gz') as f:\n",
      "            f.extractall(validation_dir)\n",
      "    print(\"extracted all the files for validation!\")\n",
      "    # Define custom iterators on extracted data locations.\n",
      "    train_iter = DataLoaderIter(\n",
      "        train_dir,\n",
      "        num_classes,\n",
      "        batch_size,\n",
      "        True,\n",
      "        num_workers)\n",
      "    print(\"DataLoaderIter done for training!\")\n",
      "    validation_iter = DataLoaderIter(\n",
      "        validation_dir,\n",
      "        num_classes,\n",
      "        batch_size,\n",
      "        False,\n",
      "        num_workers)\n",
      "    \n",
      "    # Build network symbolic graph\n",
      "    if network == 'unet':\n",
      "        print(\"unet, class_weights =\", class_weights)\n",
      "        sym = build_unet(num_classes, class_weights=class_weights)\n",
      "    else:\n",
      "        print(\"enet\")\n",
      "        sym = build_enet(inp_dims=train_iter.provide_data[0][1][1:], num_classes=num_classes, class_weights=class_weights)\n",
      "    logging.info(\"Sym loaded\")\n",
      "    \n",
      "    # Load graph into Module\n",
      "    net = mx.mod.Module(sym, context=ctx, data_names=('data',), label_names=('label',))\n",
      "    \n",
      "    # Initialize Custom Metric\n",
      "    dice_metric = mx.metric.CustomMetric(feval=avg_dice_coef_metric, allow_extra_outputs=True)\n",
      "    logging.info(\"Starting model fit\")\n",
      "    \n",
      "    # Start training the model\n",
      "    net.fit(\n",
      "        train_data=train_iter,\n",
      "        eval_data=validation_iter,\n",
      "        eval_metric=dice_metric,\n",
      "        initializer=mx.initializer.Xavier(magnitude=6),\n",
      "        optimizer='adam',\n",
      "        optimizer_params={\n",
      "            'learning_rate': learning_rate,\n",
      "            'beta1': beta1,\n",
      "            'beta2': beta2},\n",
      "        num_epoch=epochs)\n",
      "    \n",
      "    # Save Parameters\n",
      "    net.save_params('params')\n",
      "    \n",
      "    # Build inference-only graphs, set parameters from training models\n",
      "    if network == 'unet':\n",
      "        sym = build_unet(num_classes, inference=True)\n",
      "    else:\n",
      "        sym = build_enet(\n",
      "            inp_dims=train_iter.provide_data[0][1][1:], num_classes=num_classes, inference=True)\n",
      "    net = mx.mod.Module(\n",
      "        sym, context=ctx, data_names=(\n",
      "            'data',), label_names=None)\n",
      "    \n",
      "    # Re-binding model for a batch-size of one\n",
      "    net.bind(data_shapes=[('data', (1,) + train_iter.provide_data[0][1][1:])])\n",
      "    net.load_params('params')\n",
      "    logging.info(\"Save model {}/model\".format(model_dir))\n",
      "    \n",
      "    save(model_dir, net,hosts=hosts)\n",
      "    #save(model_dir, net)\n",
      "    \n",
      "    return net\n",
      "\n",
      "SYMBOL_PATH = 'model-symbol.json'\n",
      "PARAMS_PATH = 'model-0000.params'\n",
      "SHAPES_PATH = 'model-shapes.json'\n",
      "\n",
      "\n",
      "def save(model_dir, model, current_host=None, hosts=None):\n",
      "    \"\"\"Save an MXNet Module to a given location if the current host is the scheduler host.\n",
      "    This generates three files in the model directory:\n",
      "    - model-symbol.json: The serialized module symbolic graph.\n",
      "        Formed by invoking ``module.symbole.save``.\n",
      "    - model-0000.params: The serialized module parameters.\n",
      "        Formed by invoking ``module.save_params``.\n",
      "    - model-shapes.json: The serialized module input data shapes in the form of a JSON list of\n",
      "        JSON data-shape objects. Each data-shape object contains a string name and\n",
      "        a list of integer dimensions.\n",
      "    Args:\n",
      "        model_dir (str): the directory for saving the model\n",
      "        model (mxnet.mod.Module): the module to be saved\n",
      "    \"\"\"\n",
      "    current_host = current_host or os.environ['SM_CURRENT_HOST']\n",
      "    hosts = hosts or json.loads(os.environ['SM_HOSTS'])\n",
      "\n",
      "    if current_host == scheduler_host(hosts):\n",
      "        model.symbol.save(os.path.join(model_dir, SYMBOL_PATH))\n",
      "        model.save_params(os.path.join(model_dir, PARAMS_PATH))\n",
      "\n",
      "        signature = [{'name': data_desc.name, 'shape': [dim for dim in data_desc.shape]}\n",
      "                     for data_desc in model.data_shapes]\n",
      "        with open(os.path.join(model_dir, SHAPES_PATH), 'w') as f:\n",
      "            json.dump(signature, f)\n",
      "\n",
      "def scheduler_host(hosts):\n",
      "    \"\"\"Return which host in a list of hosts serves as the scheduler for a parameter server setup.\n",
      "    Args:\n",
      "        hosts (list[str]): a list of hosts\n",
      "    Returns:\n",
      "        str: the name of the scheduler host\n",
      "    \"\"\"\n",
      "    return hosts[0]\n",
      "    \n",
      "    \n",
      "\n",
      "\n",
      "def test(ctx, net, val_data):\n",
      "    metric = mx.metric.Accuracy()\n",
      "    for data, label in val_data:\n",
      "        data = data.as_in_context(ctx)\n",
      "        label = label.as_in_context(ctx)\n",
      "        output = net(data)\n",
      "        metric.update([label], [output])\n",
      "    return metric.get()\n",
      "\n",
      "\n",
      "\n",
      "        \n",
      "        \n",
      "        \n",
      "if __name__ == \"__main__\":\n",
      "    args = parse_args()\n",
      "    import argparse\n",
      "    print(args.hosts)\n",
      "    #print('instance_type=',args['instance_type'])\n",
      "    #print('instance_count=', args['instance_count'])\n",
      "    #parser.add_argument('--instance_count', type=int, default=os.environ['SM_NUM_GPUS'])\n",
      "    num_cpus = int(os.environ[\"SM_NUM_CPUS\"])\n",
      "    if(args.instance_type=='local'):\n",
      "        print(\"local testing\")\n",
      "        num_gpus = 0 #int(os.environ[\"SM_NUM_GPUS\"])\n",
      "    else:\n",
      "        num_gpus=1\n",
      "        num_cpus=0\n",
      "    \n",
      "    hyperparameters = args.training_env[\"hyperparameters\"]\n",
      "    logging.info(\"batch-size = {}\".format(hyperparameters[\"batch-size\"]))\n",
      "    print(\"hyperparameters:\",hyperparameters)\n",
      "    print(\"num_gpus ==\",num_gpus,num_cpus )\n",
      "    print(\"args.train==\", args.train)\n",
      "    print(\"args.test==\", args.test)\n",
      "\n",
      "\n",
      "    print(num_gpus)\n",
      "    train(\n",
      "        args.current_host,\n",
      "        args.train,\n",
      "        args.test,\n",
      "        hyperparameters,\n",
      "        args.hosts,\n",
      "        args.model_dir,\n",
      "        num_cpus,\n",
      "        num_gpus\n",
      "    )\n",
      "    "
     ]
    }
   ],
   "source": [
    "!cat source_dir/brain_segmentation.py"
   ]
  },
  {
   "cell_type": "markdown",
   "id": "78939860",
   "metadata": {},
   "source": [
    "In the training script, we define the training loop, which constitutes the life-cycle of the training job. Some points to notice:\n",
    "* **hyperparameters**: This hyperparameter mapping is something that we'll pass to the estimator as part of the training configuration.\n",
    "* **network**: This hyperparameter defines the network to train, either <tt>unet</tt> or <tt>enet</tt>.\n",
    "* **local imports**: The model, iterator, and loss/metric definitions are in local modules. We will pass this script, as well as accompanying modules, to the estimator\n",
    "\n",
    "I encourage you to look at these modules for deeper insights into training these networks."
   ]
  },
  {
   "cell_type": "markdown",
   "id": "ccc1b3c9",
   "metadata": {},
   "source": [
    "## Model training using GPU instance, Refer to the documentation [here](https://aws.amazon.com/sagemaker/pricing/) for list of GPU instances and their prices. \n",
    "\n",
    "I selected **ml.g4dn.4xlarge** with vCPU = 16 and Memory = 64 GiB \n",
    "\n",
    "+ training instance = ml.g4dn.4xlarge @ $1.505/hour*\n",
    "\n",
    "+ training time = *27 mins*\n",
    "\n",
    "\n",
    "+ training cost = $1.505*27/60 \n",
    "              "
   ]
  },
  {
   "cell_type": "markdown",
   "id": "adcb9dac",
   "metadata": {},
   "source": [
    "#### Initialize hyperparameters"
   ]
  },
  {
   "cell_type": "code",
   "execution_count": 117,
   "id": "ca686556",
   "metadata": {},
   "outputs": [],
   "source": [
    "## model name \n",
    "unet_gpu_job = 'DEMO-unet-g4dn-job-' + \\\n",
    "    time.strftime(\"%Y-%m-%d-%H-%M-%S\", time.gmtime())\n",
    "\n",
    "## hyperparameters\n",
    "hyperparameters={\n",
    "                    'learning-rate': 1E-3 * 16,\n",
    "                    'class-weights': [1.35, 17.18,  8.29, 12.42],\n",
    "                    'network': 'unet',\n",
    "                    'batch-size': 32,\n",
    "                    'epochs': 10  ## number of epochs\n",
    "                        }\n",
    "\n",
    "## model using MXNet Unet\n",
    "unet_gpu_estimator = MXNet(entry_point='brain_segmentation.py',\n",
    "                        base_job_name=unet_gpu_job,\n",
    "                        source_dir='./source_dir',\n",
    "                        role=role,\n",
    "                        instance_count=1,\n",
    "                        instance_type='ml.g4dn.16xlarge',\n",
    "                        framework_version='1.6',\n",
    "                        py_version='py3',\n",
    "                        hyperparameters=hyperparameters,\n",
    "                       env={'MMS_DEFAULT_RESPONSE_TIMEOUT': '86400',\"PYTHONUNBUFFERED\": \"1\" },) \n"
   ]
  },
  {
   "cell_type": "markdown",
   "id": "f424cf46",
   "metadata": {},
   "source": [
    "#### Model fitting "
   ]
  },
  {
   "cell_type": "code",
   "execution_count": null,
   "id": "f1eb0ef5",
   "metadata": {},
   "outputs": [
    {
     "name": "stdout",
     "output_type": "stream",
     "text": [
      "2021-09-28 11:08:08 Starting - Starting the training job...\n",
      "2021-09-28 11:08:31 Starting - Launching requested ML instancesProfilerReport-1632827288: InProgress\n",
      ".........\n",
      "2021-09-28 11:10:08 Starting - Preparing the instances for training.........\n",
      "2021-09-28 11:11:35 Downloading - Downloading input data...\n",
      "2021-09-28 11:11:52 Training - Downloading the training image...\n",
      "2021-09-28 11:12:32 Training - Training image download completed. Training in progress.\u001b[34m2021-09-28 11:12:25,123 sagemaker-training-toolkit INFO     Imported framework sagemaker_mxnet_container.training\u001b[0m\n",
      "\u001b[34m2021-09-28 11:12:25,146 sagemaker_mxnet_container.training INFO     MXNet training environment: {'SM_HOSTS': '[\"algo-1\"]', 'SM_NETWORK_INTERFACE_NAME': 'eth0', 'SM_HPS': '{\"batch-size\":32,\"class-weights\":[1.35,17.18,8.29,12.42],\"epochs\":10,\"learning-rate\":0.016,\"network\":\"unet\"}', 'SM_USER_ENTRY_POINT': 'brain_segmentation.py', 'SM_FRAMEWORK_PARAMS': '{}', 'SM_RESOURCE_CONFIG': '{\"current_host\":\"algo-1\",\"hosts\":[\"algo-1\"],\"network_interface_name\":\"eth0\"}', 'SM_INPUT_DATA_CONFIG': '{\"test\":{\"RecordWrapperType\":\"None\",\"S3DistributionType\":\"FullyReplicated\",\"TrainingInputMode\":\"File\"},\"train\":{\"RecordWrapperType\":\"None\",\"S3DistributionType\":\"FullyReplicated\",\"TrainingInputMode\":\"File\"}}', 'SM_OUTPUT_DATA_DIR': '/opt/ml/output/data', 'SM_CHANNELS': '[\"test\",\"train\"]', 'SM_CURRENT_HOST': 'algo-1', 'SM_MODULE_NAME': 'brain_segmentation', 'SM_LOG_LEVEL': '20', 'SM_FRAMEWORK_MODULE': 'sagemaker_mxnet_container.training:main', 'SM_INPUT_DIR': '/opt/ml/input', 'SM_INPUT_CONFIG_DIR': '/opt/ml/input/config', 'SM_OUTPUT_DIR': '/opt/ml/output', 'SM_NUM_CPUS': '64', 'SM_NUM_GPUS': '1', 'SM_MODEL_DIR': '/opt/ml/model', 'SM_MODULE_DIR': 's3://sagemaker-us-east-1-741261399688/DEMO-unet-g4dn-job-2021-09-28-11-08-06-2021-09-28-11-08-08-349/source/sourcedir.tar.gz', 'SM_TRAINING_ENV': '{\"additional_framework_parameters\":{},\"channel_input_dirs\":{\"test\":\"/opt/ml/input/data/test\",\"train\":\"/opt/ml/input/data/train\"},\"current_host\":\"algo-1\",\"framework_module\":\"sagemaker_mxnet_container.training:main\",\"hosts\":[\"algo-1\"],\"hyperparameters\":{\"batch-size\":32,\"class-weights\":[1.35,17.18,8.29,12.42],\"epochs\":10,\"learning-rate\":0.016,\"network\":\"unet\"},\"input_config_dir\":\"/opt/ml/input/config\",\"input_data_config\":{\"test\":{\"RecordWrapperType\":\"None\",\"S3DistributionType\":\"FullyReplicated\",\"TrainingInputMode\":\"File\"},\"train\":{\"RecordWrapperType\":\"None\",\"S3DistributionType\":\"FullyReplicated\",\"TrainingInputMode\":\"File\"}},\"input_dir\":\"/opt/ml/input\",\"is_master\":true,\"job_name\":\"DEMO-unet-g4dn-job-2021-09-28-11-08-06-2021-09-28-11-08-08-349\",\"log_level\":20,\"master_hostname\":\"algo-1\",\"model_dir\":\"/opt/ml/model\",\"module_dir\":\"s3://sagemaker-us-east-1-741261399688/DEMO-unet-g4dn-job-2021-09-28-11-08-06-2021-09-28-11-08-08-349/source/sourcedir.tar.gz\",\"module_name\":\"brain_segmentation\",\"network_interface_name\":\"eth0\",\"num_cpus\":64,\"num_gpus\":1,\"output_data_dir\":\"/opt/ml/output/data\",\"output_dir\":\"/opt/ml/output\",\"output_intermediate_dir\":\"/opt/ml/output/intermediate\",\"resource_config\":{\"current_host\":\"algo-1\",\"hosts\":[\"algo-1\"],\"network_interface_name\":\"eth0\"},\"user_entry_point\":\"brain_segmentation.py\"}', 'SM_USER_ARGS': '[\"--batch-size\",\"32\",\"--class-weights\",\"[1.35, 17.18, 8.29, 12.42]\",\"--epochs\",\"10\",\"--learning-rate\",\"0.016\",\"--network\",\"unet\"]', 'SM_OUTPUT_INTERMEDIATE_DIR': '/opt/ml/output/intermediate', 'SM_CHANNEL_TEST': '/opt/ml/input/data/test', 'SM_CHANNEL_TRAIN': '/opt/ml/input/data/train', 'SM_HP_BATCH-SIZE': '32', 'SM_HP_LEARNING-RATE': '0.016', 'SM_HP_CLASS-WEIGHTS': '[1.35,17.18,8.29,12.42]', 'SM_HP_EPOCHS': '10', 'SM_HP_NETWORK': 'unet'}\u001b[0m\n",
      "\u001b[34m2021-09-28 11:12:27,020 sagemaker-training-toolkit INFO     Invoking user script\n",
      "\u001b[0m\n",
      "\u001b[34mTraining Env:\n",
      "\u001b[0m\n",
      "\u001b[34m{\n",
      "    \"additional_framework_parameters\": {},\n",
      "    \"channel_input_dirs\": {\n",
      "        \"test\": \"/opt/ml/input/data/test\",\n",
      "        \"train\": \"/opt/ml/input/data/train\"\n",
      "    },\n",
      "    \"current_host\": \"algo-1\",\n",
      "    \"framework_module\": \"sagemaker_mxnet_container.training:main\",\n",
      "    \"hosts\": [\n",
      "        \"algo-1\"\n",
      "    ],\n",
      "    \"hyperparameters\": {\n",
      "        \"batch-size\": 32,\n",
      "        \"learning-rate\": 0.016,\n",
      "        \"class-weights\": [\n",
      "            1.35,\n",
      "            17.18,\n",
      "            8.29,\n",
      "            12.42\n",
      "        ],\n",
      "        \"epochs\": 10,\n",
      "        \"network\": \"unet\"\n",
      "    },\n",
      "    \"input_config_dir\": \"/opt/ml/input/config\",\n",
      "    \"input_data_config\": {\n",
      "        \"test\": {\n",
      "            \"TrainingInputMode\": \"File\",\n",
      "            \"S3DistributionType\": \"FullyReplicated\",\n",
      "            \"RecordWrapperType\": \"None\"\n",
      "        },\n",
      "        \"train\": {\n",
      "            \"TrainingInputMode\": \"File\",\n",
      "            \"S3DistributionType\": \"FullyReplicated\",\n",
      "            \"RecordWrapperType\": \"None\"\n",
      "        }\n",
      "    },\n",
      "    \"input_dir\": \"/opt/ml/input\",\n",
      "    \"is_master\": true,\n",
      "    \"job_name\": \"DEMO-unet-g4dn-job-2021-09-28-11-08-06-2021-09-28-11-08-08-349\",\n",
      "    \"log_level\": 20,\n",
      "    \"master_hostname\": \"algo-1\",\n",
      "    \"model_dir\": \"/opt/ml/model\",\n",
      "    \"module_dir\": \"s3://sagemaker-us-east-1-741261399688/DEMO-unet-g4dn-job-2021-09-28-11-08-06-2021-09-28-11-08-08-349/source/sourcedir.tar.gz\",\n",
      "    \"module_name\": \"brain_segmentation\",\n",
      "    \"network_interface_name\": \"eth0\",\n",
      "    \"num_cpus\": 64,\n",
      "    \"num_gpus\": 1,\n",
      "    \"output_data_dir\": \"/opt/ml/output/data\",\n",
      "    \"output_dir\": \"/opt/ml/output\",\n",
      "    \"output_intermediate_dir\": \"/opt/ml/output/intermediate\",\n",
      "    \"resource_config\": {\n",
      "        \"current_host\": \"algo-1\",\n",
      "        \"hosts\": [\n",
      "            \"algo-1\"\n",
      "        ],\n",
      "        \"network_interface_name\": \"eth0\"\n",
      "    },\n",
      "    \"user_entry_point\": \"brain_segmentation.py\"\u001b[0m\n",
      "\u001b[34m}\n",
      "\u001b[0m\n",
      "\u001b[34mEnvironment variables:\n",
      "\u001b[0m\n",
      "\u001b[34mSM_HOSTS=[\"algo-1\"]\u001b[0m\n",
      "\u001b[34mSM_NETWORK_INTERFACE_NAME=eth0\u001b[0m\n",
      "\u001b[34mSM_HPS={\"batch-size\":32,\"class-weights\":[1.35,17.18,8.29,12.42],\"epochs\":10,\"learning-rate\":0.016,\"network\":\"unet\"}\u001b[0m\n",
      "\u001b[34mSM_USER_ENTRY_POINT=brain_segmentation.py\u001b[0m\n",
      "\u001b[34mSM_FRAMEWORK_PARAMS={}\u001b[0m\n",
      "\u001b[34mSM_RESOURCE_CONFIG={\"current_host\":\"algo-1\",\"hosts\":[\"algo-1\"],\"network_interface_name\":\"eth0\"}\u001b[0m\n",
      "\u001b[34mSM_INPUT_DATA_CONFIG={\"test\":{\"RecordWrapperType\":\"None\",\"S3DistributionType\":\"FullyReplicated\",\"TrainingInputMode\":\"File\"},\"train\":{\"RecordWrapperType\":\"None\",\"S3DistributionType\":\"FullyReplicated\",\"TrainingInputMode\":\"File\"}}\u001b[0m\n",
      "\u001b[34mSM_OUTPUT_DATA_DIR=/opt/ml/output/data\u001b[0m\n",
      "\u001b[34mSM_CHANNELS=[\"test\",\"train\"]\u001b[0m\n",
      "\u001b[34mSM_CURRENT_HOST=algo-1\u001b[0m\n",
      "\u001b[34mSM_MODULE_NAME=brain_segmentation\u001b[0m\n",
      "\u001b[34mSM_LOG_LEVEL=20\u001b[0m\n",
      "\u001b[34mSM_FRAMEWORK_MODULE=sagemaker_mxnet_container.training:main\u001b[0m\n",
      "\u001b[34mSM_INPUT_DIR=/opt/ml/input\u001b[0m\n",
      "\u001b[34mSM_INPUT_CONFIG_DIR=/opt/ml/input/config\u001b[0m\n",
      "\u001b[34mSM_OUTPUT_DIR=/opt/ml/output\u001b[0m\n",
      "\u001b[34mSM_NUM_CPUS=64\u001b[0m\n",
      "\u001b[34mSM_NUM_GPUS=1\u001b[0m\n",
      "\u001b[34mSM_MODEL_DIR=/opt/ml/model\u001b[0m\n",
      "\u001b[34mSM_MODULE_DIR=s3://sagemaker-us-east-1-741261399688/DEMO-unet-g4dn-job-2021-09-28-11-08-06-2021-09-28-11-08-08-349/source/sourcedir.tar.gz\u001b[0m\n",
      "\u001b[34mSM_TRAINING_ENV={\"additional_framework_parameters\":{},\"channel_input_dirs\":{\"test\":\"/opt/ml/input/data/test\",\"train\":\"/opt/ml/input/data/train\"},\"current_host\":\"algo-1\",\"framework_module\":\"sagemaker_mxnet_container.training:main\",\"hosts\":[\"algo-1\"],\"hyperparameters\":{\"batch-size\":32,\"class-weights\":[1.35,17.18,8.29,12.42],\"epochs\":10,\"learning-rate\":0.016,\"network\":\"unet\"},\"input_config_dir\":\"/opt/ml/input/config\",\"input_data_config\":{\"test\":{\"RecordWrapperType\":\"None\",\"S3DistributionType\":\"FullyReplicated\",\"TrainingInputMode\":\"File\"},\"train\":{\"RecordWrapperType\":\"None\",\"S3DistributionType\":\"FullyReplicated\",\"TrainingInputMode\":\"File\"}},\"input_dir\":\"/opt/ml/input\",\"is_master\":true,\"job_name\":\"DEMO-unet-g4dn-job-2021-09-28-11-08-06-2021-09-28-11-08-08-349\",\"log_level\":20,\"master_hostname\":\"algo-1\",\"model_dir\":\"/opt/ml/model\",\"module_dir\":\"s3://sagemaker-us-east-1-741261399688/DEMO-unet-g4dn-job-2021-09-28-11-08-06-2021-09-28-11-08-08-349/source/sourcedir.tar.gz\",\"module_name\":\"brain_segmentation\",\"network_interface_name\":\"eth0\",\"num_cpus\":64,\"num_gpus\":1,\"output_data_dir\":\"/opt/ml/output/data\",\"output_dir\":\"/opt/ml/output\",\"output_intermediate_dir\":\"/opt/ml/output/intermediate\",\"resource_config\":{\"current_host\":\"algo-1\",\"hosts\":[\"algo-1\"],\"network_interface_name\":\"eth0\"},\"user_entry_point\":\"brain_segmentation.py\"}\u001b[0m\n",
      "\u001b[34mSM_USER_ARGS=[\"--batch-size\",\"32\",\"--class-weights\",\"[1.35, 17.18, 8.29, 12.42]\",\"--epochs\",\"10\",\"--learning-rate\",\"0.016\",\"--network\",\"unet\"]\u001b[0m\n",
      "\u001b[34mSM_OUTPUT_INTERMEDIATE_DIR=/opt/ml/output/intermediate\u001b[0m\n",
      "\u001b[34mSM_CHANNEL_TEST=/opt/ml/input/data/test\u001b[0m\n",
      "\u001b[34mSM_CHANNEL_TRAIN=/opt/ml/input/data/train\u001b[0m\n",
      "\u001b[34mSM_HP_BATCH-SIZE=32\u001b[0m\n",
      "\u001b[34mSM_HP_LEARNING-RATE=0.016\u001b[0m\n",
      "\u001b[34mSM_HP_CLASS-WEIGHTS=[1.35,17.18,8.29,12.42]\u001b[0m\n",
      "\u001b[34mSM_HP_EPOCHS=10\u001b[0m\n",
      "\u001b[34mSM_HP_NETWORK=unet\u001b[0m\n",
      "\u001b[34mPYTHONPATH=/opt/ml/code:/usr/local/bin:/usr/local/lib/python36.zip:/usr/local/lib/python3.6:/usr/local/lib/python3.6/lib-dynload:/usr/local/lib/python3.6/site-packages\n",
      "\u001b[0m\n",
      "\u001b[34mInvoking script with the following command:\n",
      "\u001b[0m\n",
      "\u001b[34m/usr/local/bin/python3.6 brain_segmentation.py --batch-size 32 --class-weights [1.35, 17.18, 8.29, 12.42] --epochs 10 --learning-rate 0.016 --network unet\n",
      "\n",
      "\u001b[0m\n",
      "\u001b[34mNamespace(batch_size=32, class_weights=['[', '1', '.', '3', '5', ',', ' ', '1', '7', '.', '1', '8', ',', ' ', '8', '.', '2', '9', ',', ' ', '1', '2', '.', '4', '2', ']'], current_host='algo-1', epochs=10, hosts=['algo-1'], instance_count=1, instance_type='ml.p3.2xlarge', learning_rate=0.016, model_dir='/opt/ml/model', network='unet', test='/opt/ml/input/data/test', train='/opt/ml/input/data/train', training_env={'additional_framework_parameters': {}, 'channel_input_dirs': {'test': '/opt/ml/input/data/test', 'train': '/opt/ml/input/data/train'}, 'current_host': 'algo-1', 'framework_module': 'sagemaker_mxnet_container.training:main', 'hosts': ['algo-1'], 'hyperparameters': {'batch-size': 32, 'class-weights': [1.35, 17.18, 8.29, 12.42], 'epochs': 10, 'learning-rate': 0.016, 'network': 'unet'}, 'input_config_dir': '/opt/ml/input/config', 'input_data_config': {'test': {'RecordWrapperType': 'None', 'S3DistributionType': 'FullyReplicated', 'TrainingInputMode': 'File'}, 'train': {'RecordWrapperType': 'None', 'S3DistributionType': 'FullyReplicated', 'TrainingInputMode': 'File'}}, 'input_dir': '/opt/ml/input', 'is_master': True, 'job_name': 'DEMO-unet-g4dn-job-2021-09-28-11-08-06-2021-09-28-11-08-08-349', 'log_level': 20, 'master_hostname': 'algo-1', 'model_dir': '/opt/ml/model', 'module_dir': 's3://sagemaker-us-east-1-741261399688/DEMO-unet-g4dn-job-2021-09-28-11-08-06-2021-09-28-11-08-08-349/source/sourcedir.tar.gz', 'module_name': 'brain_segmentation', 'network_interface_name': 'eth0', 'num_cpus': 64, 'num_gpus': 1, 'output_data_dir': '/opt/ml/output/data', 'output_dir': '/opt/ml/output', 'output_intermediate_dir': '/opt/ml/output/intermediate', 'resource_config': {'current_host': 'algo-1', 'hosts': ['algo-1'], 'network_interface_name': 'eth0'}, 'user_entry_point': 'brain_segmentation.py'})\u001b[0m\n",
      "\u001b[34mparser.parse_args().instance_type:  ml.p3.2xlarge\u001b[0m\n",
      "\u001b[34mparser.instance_count:  1\u001b[0m\n",
      "\u001b[34mparser.network:  unet\u001b[0m\n",
      "\u001b[34m['algo-1']\u001b[0m\n",
      "\u001b[34mINFO:root:batch-size = 32\u001b[0m\n",
      "\u001b[34mhyperparameters: {'batch-size': 32, 'class-weights': [1.35, 17.18, 8.29, 12.42], 'epochs': 10, 'learning-rate': 0.016, 'network': 'unet'}\u001b[0m\n",
      "\u001b[34mnum_gpus == 1 0\u001b[0m\n",
      "\u001b[34margs.train== /opt/ml/input/data/train\u001b[0m\n",
      "\u001b[34margs.test== /opt/ml/input/data/test\u001b[0m\n",
      "\u001b[34m1\u001b[0m\n",
      "\u001b[34mINFO:root:=========== Inside Train ===========\u001b[0m\n",
      "\u001b[34mINFO:root:1.6.0\u001b[0m\n",
      "\u001b[34m/opt/ml/input/data/train\u001b[0m\n",
      "\u001b[34m/opt/ml/input/data/test\u001b[0m\n",
      "\u001b[34mextracted all the files for training!\u001b[0m\n",
      "\u001b[34mextracted all the files for validation!\u001b[0m\n",
      "\u001b[34mDataLoaderIter done for training!\u001b[0m\n",
      "\u001b[34munet, class_weights = [[ 1.35 17.18  8.29 12.42]]\u001b[0m\n",
      "\u001b[34mINFO:root:Sym loaded\u001b[0m\n",
      "\u001b[34mINFO:root:Starting model fit\u001b[0m\n",
      "\u001b[34m[11:12:38] src/operator/nn/./cudnn/./cudnn_algoreg-inl.h:97: Running performance tests to find the best convolution algorithm, this can take a while... (set the environment variable MXNET_CUDNN_AUTOTUNE_DEFAULT to 0 to disable)\u001b[0m\n",
      "\u001b[34m[11:12:39] src/operator/nn/./cudnn/./cudnn_algoreg-inl.h:97: Running performance tests to find the best convolution algorithm, this can take a while... (set the environment variable MXNET_CUDNN_AUTOTUNE_DEFAULT to 0 to disable)\u001b[0m\n",
      "\u001b[34mINFO:root:Epoch[0] Train-avg_dice_coef_metric=0.400921\u001b[0m\n",
      "\u001b[34mINFO:root:Epoch[0] Time cost=36.274\u001b[0m\n",
      "\u001b[34mINFO:root:Epoch[0] Validation-avg_dice_coef_metric=0.333283\u001b[0m\n",
      "\u001b[34mINFO:root:Epoch[1] Train-avg_dice_coef_metric=0.296317\u001b[0m\n",
      "\u001b[34mINFO:root:Epoch[1] Time cost=34.056\u001b[0m\n",
      "\u001b[34mINFO:root:Epoch[1] Validation-avg_dice_coef_metric=0.261065\u001b[0m\n",
      "\u001b[34mINFO:root:Epoch[2] Train-avg_dice_coef_metric=0.174406\u001b[0m\n",
      "\u001b[34mINFO:root:Epoch[2] Time cost=34.515\u001b[0m\n",
      "\u001b[34mINFO:root:Epoch[2] Validation-avg_dice_coef_metric=0.183551\u001b[0m\n",
      "\u001b[34mINFO:root:Epoch[3] Train-avg_dice_coef_metric=0.164388\u001b[0m\n",
      "\u001b[34mINFO:root:Epoch[3] Time cost=35.682\u001b[0m\n",
      "\u001b[34mINFO:root:Epoch[3] Validation-avg_dice_coef_metric=0.160695\u001b[0m\n",
      "\u001b[34mINFO:root:Epoch[4] Train-avg_dice_coef_metric=0.161049\u001b[0m\n",
      "\u001b[34mINFO:root:Epoch[4] Time cost=36.365\u001b[0m\n",
      "\u001b[34mINFO:root:Epoch[4] Validation-avg_dice_coef_metric=0.192755\u001b[0m\n"
     ]
    }
   ],
   "source": [
    "%%time\n",
    "train_s3 = sagemaker.TrainingInput(s3_data=os.path.join(\n",
    "    data_bucket, \"train\"), distribution='FullyReplicated')\n",
    "validation_s3 = sagemaker.TrainingInput(s3_data=os.path.join(\n",
    "    data_bucket, \"validation\"), distribution='FullyReplicated')\n",
    "\n",
    "unet_gpu_estimator.fit({'train': train_s3, 'test': validation_s3})"
   ]
  },
  {
   "cell_type": "markdown",
   "id": "17431aeb",
   "metadata": {},
   "source": [
    "### Let's see fitted models"
   ]
  },
  {
   "cell_type": "code",
   "execution_count": 73,
   "id": "b2a1d165",
   "metadata": {
    "collapsed": true,
    "jupyter": {
     "outputs_hidden": true
    }
   },
   "outputs": [
    {
     "data": {
      "text/plain": [
       "{'framework_version': '1.6',\n",
       " 'py_version': 'py3',\n",
       " 'role': 'arn:aws:iam::741261399688:role/sagemaker-ai-demo-v2-SageMakerIamRole-1KDLPV0RXG7IV',\n",
       " 'instance_count': 1,\n",
       " 'instance_type': 'ml.g4dn.16xlarge',\n",
       " 'volume_size': 30,\n",
       " 'volume_kms_key': None,\n",
       " 'max_run': 86400,\n",
       " 'input_mode': 'File',\n",
       " 'tags': None,\n",
       " 'metric_definitions': None,\n",
       " 'model_uri': None,\n",
       " 'model_channel_name': 'model',\n",
       " 'code_uri': None,\n",
       " 'code_channel_name': 'code',\n",
       " 'sagemaker_session': <sagemaker.session.Session at 0x7fefbb47b710>,\n",
       " 'base_job_name': 'DEMO-unet-g4dn-job-2021-09-27-12-13-11',\n",
       " '_current_job_name': 'DEMO-unet-g4dn-job-2021-09-27-12-13-11-2021-09-27-12-13-13-533',\n",
       " 'output_path': 's3://sagemaker-us-east-1-741261399688/',\n",
       " 'output_kms_key': None,\n",
       " 'latest_training_job': <sagemaker.estimator._TrainingJob at 0x7fefd07b3fd0>,\n",
       " 'jobs': [<sagemaker.estimator._TrainingJob at 0x7fefd07b3fd0>],\n",
       " 'deploy_instance_type': None,\n",
       " '_compiled_models': {},\n",
       " 'subnets': None,\n",
       " 'security_group_ids': None,\n",
       " 'encrypt_inter_container_traffic': False,\n",
       " 'use_spot_instances': False,\n",
       " 'max_wait': None,\n",
       " 'checkpoint_s3_uri': None,\n",
       " 'checkpoint_local_path': None,\n",
       " 'rules': None,\n",
       " 'debugger_hook_config': <sagemaker.debugger.debugger.DebuggerHookConfig at 0x7fefd07cdad0>,\n",
       " 'tensorboard_output_config': None,\n",
       " 'debugger_rule_configs': [],\n",
       " 'collection_configs': set(),\n",
       " 'enable_sagemaker_metrics': True,\n",
       " '_enable_network_isolation': False,\n",
       " 'profiler_config': <sagemaker.debugger.profiler_config.ProfilerConfig at 0x7fefd0784750>,\n",
       " 'disable_profiler': False,\n",
       " 'environment': None,\n",
       " 'max_retry_attempts': None,\n",
       " 'profiler_rule_configs': [{'RuleConfigurationName': 'ProfilerReport-1632744793',\n",
       "   'RuleEvaluatorImage': '503895931360.dkr.ecr.us-east-1.amazonaws.com/sagemaker-debugger-rules:latest',\n",
       "   'RuleParameters': {'rule_to_invoke': 'ProfilerReport'}}],\n",
       " 'profiler_rules': [ProfilerRule(name='ProfilerReport-1632744793', image_uri='503895931360.dkr.ecr.us-east-1.amazonaws.com/sagemaker-debugger-rules:latest', instance_type=None, container_local_output_path=None, s3_output_path=None, volume_size_in_gb=None, rule_parameters={'rule_to_invoke': 'ProfilerReport'})],\n",
       " 'debugger_rules': [],\n",
       " 'entry_point': 'brain_segmentation.py',\n",
       " 'git_config': None,\n",
       " 'source_dir': './source_dir',\n",
       " 'dependencies': [],\n",
       " 'uploaded_code': UserCode(s3_prefix='s3://sagemaker-us-east-1-741261399688/DEMO-unet-g4dn-job-2021-09-27-12-13-11-2021-09-27-12-13-13-533/source/sourcedir.tar.gz', script_name='brain_segmentation.py'),\n",
       " 'container_log_level': 20,\n",
       " 'code_location': None,\n",
       " 'image_uri': None,\n",
       " '_hyperparameters': {'learning-rate': 0.016,\n",
       "  'class-weights': [1.35, 17.18, 8.29, 12.42],\n",
       "  'network': 'unet',\n",
       "  'batch-size': 32,\n",
       "  'epochs': 10,\n",
       "  'sagemaker_submit_directory': 's3://sagemaker-us-east-1-741261399688/DEMO-unet-g4dn-job-2021-09-27-12-13-11-2021-09-27-12-13-13-533/source/sourcedir.tar.gz',\n",
       "  'sagemaker_program': 'brain_segmentation.py',\n",
       "  'sagemaker_container_log_level': 20,\n",
       "  'sagemaker_job_name': 'DEMO-unet-g4dn-job-2021-09-27-12-13-11-2021-09-27-12-13-13-533',\n",
       "  'sagemaker_region': 'us-east-1'}}"
      ]
     },
     "execution_count": 73,
     "metadata": {},
     "output_type": "execute_result"
    }
   ],
   "source": [
    "unet_gpu_estimator.__dict__"
   ]
  },
  {
   "cell_type": "code",
   "execution_count": 65,
   "id": "9c8b1653",
   "metadata": {},
   "outputs": [
    {
     "data": {
      "text/plain": [
       "'s3://sagemaker-us-east-1-741261399688/DEMO-unet-g4dn-job-2021-09-27-10-03-53-2021-09-27-10-03-54-220/output/model.tar.gz'"
      ]
     },
     "execution_count": 65,
     "metadata": {},
     "output_type": "execute_result"
    }
   ],
   "source": [
    "unet_gpu_estimator.__dict__\n",
    "s3_model=unet_gpu_estimator.__dict__['output_path'] ## model artifact saved in S3 \n",
    "base_job= unet_gpu_estimator.__dict__['_current_job_name']\n",
    "\n",
    "s3_model=s3_model+base_job+'/output/model.tar.gz'\n",
    "s3_model"
   ]
  },
  {
   "cell_type": "markdown",
   "id": "05c9eacb",
   "metadata": {},
   "source": [
    "## Deployment "
   ]
  },
  {
   "cell_type": "code",
   "execution_count": 92,
   "id": "899a788f",
   "metadata": {},
   "outputs": [
    {
     "ename": "ClientError",
     "evalue": "An error occurred (ValidationException) when calling the describe_training_job operation: Could not find local training job",
     "output_type": "error",
     "traceback": [
      "\u001b[0;31m---------------------------------------------------------------------------\u001b[0m",
      "\u001b[0;31mClientError\u001b[0m                               Traceback (most recent call last)",
      "\u001b[0;32m<timed exec>\u001b[0m in \u001b[0;36m<module>\u001b[0;34m\u001b[0m\n",
      "\u001b[0;32m~/anaconda3/envs/mxnet_latest_p37/lib/python3.7/site-packages/sagemaker/estimator.py\u001b[0m in \u001b[0;36mdeploy\u001b[0;34m(self, initial_instance_count, instance_type, serializer, deserializer, accelerator_type, endpoint_name, use_compiled_model, wait, model_name, kms_key, data_capture_config, tags, **kwargs)\u001b[0m\n\u001b[1;32m    935\u001b[0m         \u001b[0;32melse\u001b[0m\u001b[0;34m:\u001b[0m\u001b[0;34m\u001b[0m\u001b[0;34m\u001b[0m\u001b[0m\n\u001b[1;32m    936\u001b[0m             \u001b[0mkwargs\u001b[0m\u001b[0;34m[\u001b[0m\u001b[0;34m\"model_kms_key\"\u001b[0m\u001b[0;34m]\u001b[0m \u001b[0;34m=\u001b[0m \u001b[0mself\u001b[0m\u001b[0;34m.\u001b[0m\u001b[0moutput_kms_key\u001b[0m\u001b[0;34m\u001b[0m\u001b[0;34m\u001b[0m\u001b[0m\n\u001b[0;32m--> 937\u001b[0;31m             \u001b[0mmodel\u001b[0m \u001b[0;34m=\u001b[0m \u001b[0mself\u001b[0m\u001b[0;34m.\u001b[0m\u001b[0mcreate_model\u001b[0m\u001b[0;34m(\u001b[0m\u001b[0;34m**\u001b[0m\u001b[0mkwargs\u001b[0m\u001b[0;34m)\u001b[0m\u001b[0;34m\u001b[0m\u001b[0;34m\u001b[0m\u001b[0m\n\u001b[0m\u001b[1;32m    938\u001b[0m \u001b[0;34m\u001b[0m\u001b[0m\n\u001b[1;32m    939\u001b[0m         \u001b[0mmodel\u001b[0m\u001b[0;34m.\u001b[0m\u001b[0mname\u001b[0m \u001b[0;34m=\u001b[0m \u001b[0mmodel_name\u001b[0m\u001b[0;34m\u001b[0m\u001b[0;34m\u001b[0m\u001b[0m\n",
      "\u001b[0;32m~/anaconda3/envs/mxnet_latest_p37/lib/python3.7/site-packages/sagemaker/mxnet/estimator.py\u001b[0m in \u001b[0;36mcreate_model\u001b[0;34m(self, model_server_workers, role, vpc_config_override, entry_point, source_dir, dependencies, image_uri, **kwargs)\u001b[0m\n\u001b[1;32m    269\u001b[0m \u001b[0;34m\u001b[0m\u001b[0m\n\u001b[1;32m    270\u001b[0m         model = MXNetModel(\n\u001b[0;32m--> 271\u001b[0;31m             \u001b[0mself\u001b[0m\u001b[0;34m.\u001b[0m\u001b[0mmodel_data\u001b[0m\u001b[0;34m,\u001b[0m\u001b[0;34m\u001b[0m\u001b[0;34m\u001b[0m\u001b[0m\n\u001b[0m\u001b[1;32m    272\u001b[0m             \u001b[0mrole\u001b[0m \u001b[0;32mor\u001b[0m \u001b[0mself\u001b[0m\u001b[0;34m.\u001b[0m\u001b[0mrole\u001b[0m\u001b[0;34m,\u001b[0m\u001b[0;34m\u001b[0m\u001b[0;34m\u001b[0m\u001b[0m\n\u001b[1;32m    273\u001b[0m             \u001b[0mentry_point\u001b[0m\u001b[0;34m,\u001b[0m\u001b[0;34m\u001b[0m\u001b[0;34m\u001b[0m\u001b[0m\n",
      "\u001b[0;32m~/anaconda3/envs/mxnet_latest_p37/lib/python3.7/site-packages/sagemaker/estimator.py\u001b[0m in \u001b[0;36mmodel_data\u001b[0;34m(self)\u001b[0m\n\u001b[1;32m   1032\u001b[0m         \u001b[0;32mif\u001b[0m \u001b[0mself\u001b[0m\u001b[0;34m.\u001b[0m\u001b[0mlatest_training_job\u001b[0m \u001b[0;32mis\u001b[0m \u001b[0;32mnot\u001b[0m \u001b[0;32mNone\u001b[0m\u001b[0;34m:\u001b[0m\u001b[0;34m\u001b[0m\u001b[0;34m\u001b[0m\u001b[0m\n\u001b[1;32m   1033\u001b[0m             model_uri = self.sagemaker_session.sagemaker_client.describe_training_job(\n\u001b[0;32m-> 1034\u001b[0;31m                 \u001b[0mTrainingJobName\u001b[0m\u001b[0;34m=\u001b[0m\u001b[0mself\u001b[0m\u001b[0;34m.\u001b[0m\u001b[0mlatest_training_job\u001b[0m\u001b[0;34m.\u001b[0m\u001b[0mname\u001b[0m\u001b[0;34m\u001b[0m\u001b[0;34m\u001b[0m\u001b[0m\n\u001b[0m\u001b[1;32m   1035\u001b[0m             )[\"ModelArtifacts\"][\"S3ModelArtifacts\"]\n\u001b[1;32m   1036\u001b[0m         \u001b[0;32melse\u001b[0m\u001b[0;34m:\u001b[0m\u001b[0;34m\u001b[0m\u001b[0;34m\u001b[0m\u001b[0m\n",
      "\u001b[0;32m~/anaconda3/envs/mxnet_latest_p37/lib/python3.7/site-packages/sagemaker/local/local_session.py\u001b[0m in \u001b[0;36mdescribe_training_job\u001b[0;34m(self, TrainingJobName)\u001b[0m\n\u001b[1;32m    205\u001b[0m                 }\n\u001b[1;32m    206\u001b[0m             }\n\u001b[0;32m--> 207\u001b[0;31m             \u001b[0;32mraise\u001b[0m \u001b[0mClientError\u001b[0m\u001b[0;34m(\u001b[0m\u001b[0merror_response\u001b[0m\u001b[0;34m,\u001b[0m \u001b[0;34m\"describe_training_job\"\u001b[0m\u001b[0;34m)\u001b[0m\u001b[0;34m\u001b[0m\u001b[0;34m\u001b[0m\u001b[0m\n\u001b[0m\u001b[1;32m    208\u001b[0m         \u001b[0;32mreturn\u001b[0m \u001b[0mLocalSagemakerClient\u001b[0m\u001b[0;34m.\u001b[0m\u001b[0m_training_jobs\u001b[0m\u001b[0;34m[\u001b[0m\u001b[0mTrainingJobName\u001b[0m\u001b[0;34m]\u001b[0m\u001b[0;34m.\u001b[0m\u001b[0mdescribe\u001b[0m\u001b[0;34m(\u001b[0m\u001b[0;34m)\u001b[0m\u001b[0;34m\u001b[0m\u001b[0;34m\u001b[0m\u001b[0m\n\u001b[1;32m    209\u001b[0m \u001b[0;34m\u001b[0m\u001b[0m\n",
      "\u001b[0;31mClientError\u001b[0m: An error occurred (ValidationException) when calling the describe_training_job operation: Could not find local training job"
     ]
    }
   ],
   "source": [
    "%%time\n",
    "\n",
    "unet_gpu_estimator.sagemaker_session=sagemaker.local.LocalSession()\n",
    "predictor = unet_gpu_estimator.deploy(instance_type= 'local',initial_instance_count=1)"
   ]
  },
  {
   "cell_type": "code",
   "execution_count": 75,
   "id": "23dd50df",
   "metadata": {},
   "outputs": [],
   "source": [
    "predictor.serializer = sagemaker.serializers.JSONSerializer(content_type='application/json')"
   ]
  },
  {
   "cell_type": "code",
   "execution_count": 76,
   "id": "06b854d4",
   "metadata": {},
   "outputs": [],
   "source": [
    "processed_data_dir = os.path.join(data_dir, 'brain_mri', 'data')\n",
    "validation_dir = os.path.join(processed_data_dir, 'validation')\n",
    "test_brain = np.array(Image.open(os.path.join(validation_dir, 'OAS1_0004_MR1_mpr_n4_anon_111_t88_26.png')))[np.newaxis, np.newaxis,  :]"
   ]
  },
  {
   "cell_type": "code",
   "execution_count": 78,
   "id": "732a943a",
   "metadata": {},
   "outputs": [
    {
     "ename": "ModelError",
     "evalue": "An error occurred (ModelError) when calling the InvokeEndpoint operation: Received server error (503) from primary with message \"{\n  \"code\": 503,\n  \"type\": \"InternalServerException\",\n  \"message\": \"Prediction failed\"\n}\n\". See https://us-east-1.console.aws.amazon.com/cloudwatch/home?region=us-east-1#logEventViewer:group=/aws/sagemaker/Endpoints/DEMO-unet-g4dn-job-2021-09-27-12-13-11-2021-09-28-02-21-51-316 in account 741261399688 for more information.",
     "output_type": "error",
     "traceback": [
      "\u001b[0;31m---------------------------------------------------------------------------\u001b[0m",
      "\u001b[0;31mModelError\u001b[0m                                Traceback (most recent call last)",
      "\u001b[0;32m<ipython-input-78-5fac4f4602d2>\u001b[0m in \u001b[0;36m<module>\u001b[0;34m\u001b[0m\n\u001b[1;32m      1\u001b[0m \u001b[0mjsonstr\u001b[0m\u001b[0;34m=\u001b[0m\u001b[0mjson\u001b[0m\u001b[0;34m.\u001b[0m\u001b[0mdumps\u001b[0m\u001b[0;34m(\u001b[0m\u001b[0mtest_brain\u001b[0m\u001b[0;34m.\u001b[0m\u001b[0mtolist\u001b[0m\u001b[0;34m(\u001b[0m\u001b[0;34m)\u001b[0m\u001b[0;34m)\u001b[0m\u001b[0;34m\u001b[0m\u001b[0;34m\u001b[0m\u001b[0m\n\u001b[0;32m----> 2\u001b[0;31m \u001b[0mpredictor\u001b[0m\u001b[0;34m.\u001b[0m\u001b[0mpredict\u001b[0m\u001b[0;34m(\u001b[0m\u001b[0mjsonstr\u001b[0m\u001b[0;34m)\u001b[0m\u001b[0;34m\u001b[0m\u001b[0;34m\u001b[0m\u001b[0m\n\u001b[0m",
      "\u001b[0;32m~/anaconda3/envs/mxnet_latest_p37/lib/python3.7/site-packages/sagemaker/predictor.py\u001b[0m in \u001b[0;36mpredict\u001b[0;34m(self, data, initial_args, target_model, target_variant, inference_id)\u001b[0m\n\u001b[1;32m    134\u001b[0m             \u001b[0mdata\u001b[0m\u001b[0;34m,\u001b[0m \u001b[0minitial_args\u001b[0m\u001b[0;34m,\u001b[0m \u001b[0mtarget_model\u001b[0m\u001b[0;34m,\u001b[0m \u001b[0mtarget_variant\u001b[0m\u001b[0;34m,\u001b[0m \u001b[0minference_id\u001b[0m\u001b[0;34m\u001b[0m\u001b[0;34m\u001b[0m\u001b[0m\n\u001b[1;32m    135\u001b[0m         )\n\u001b[0;32m--> 136\u001b[0;31m         \u001b[0mresponse\u001b[0m \u001b[0;34m=\u001b[0m \u001b[0mself\u001b[0m\u001b[0;34m.\u001b[0m\u001b[0msagemaker_session\u001b[0m\u001b[0;34m.\u001b[0m\u001b[0msagemaker_runtime_client\u001b[0m\u001b[0;34m.\u001b[0m\u001b[0minvoke_endpoint\u001b[0m\u001b[0;34m(\u001b[0m\u001b[0;34m**\u001b[0m\u001b[0mrequest_args\u001b[0m\u001b[0;34m)\u001b[0m\u001b[0;34m\u001b[0m\u001b[0;34m\u001b[0m\u001b[0m\n\u001b[0m\u001b[1;32m    137\u001b[0m         \u001b[0;32mreturn\u001b[0m \u001b[0mself\u001b[0m\u001b[0;34m.\u001b[0m\u001b[0m_handle_response\u001b[0m\u001b[0;34m(\u001b[0m\u001b[0mresponse\u001b[0m\u001b[0;34m)\u001b[0m\u001b[0;34m\u001b[0m\u001b[0;34m\u001b[0m\u001b[0m\n\u001b[1;32m    138\u001b[0m \u001b[0;34m\u001b[0m\u001b[0m\n",
      "\u001b[0;32m~/anaconda3/envs/mxnet_latest_p37/lib/python3.7/site-packages/botocore/client.py\u001b[0m in \u001b[0;36m_api_call\u001b[0;34m(self, *args, **kwargs)\u001b[0m\n\u001b[1;32m    384\u001b[0m                     \"%s() only accepts keyword arguments.\" % py_operation_name)\n\u001b[1;32m    385\u001b[0m             \u001b[0;31m# The \"self\" in this scope is referring to the BaseClient.\u001b[0m\u001b[0;34m\u001b[0m\u001b[0;34m\u001b[0m\u001b[0;34m\u001b[0m\u001b[0m\n\u001b[0;32m--> 386\u001b[0;31m             \u001b[0;32mreturn\u001b[0m \u001b[0mself\u001b[0m\u001b[0;34m.\u001b[0m\u001b[0m_make_api_call\u001b[0m\u001b[0;34m(\u001b[0m\u001b[0moperation_name\u001b[0m\u001b[0;34m,\u001b[0m \u001b[0mkwargs\u001b[0m\u001b[0;34m)\u001b[0m\u001b[0;34m\u001b[0m\u001b[0;34m\u001b[0m\u001b[0m\n\u001b[0m\u001b[1;32m    387\u001b[0m \u001b[0;34m\u001b[0m\u001b[0m\n\u001b[1;32m    388\u001b[0m         \u001b[0m_api_call\u001b[0m\u001b[0;34m.\u001b[0m\u001b[0m__name__\u001b[0m \u001b[0;34m=\u001b[0m \u001b[0mstr\u001b[0m\u001b[0;34m(\u001b[0m\u001b[0mpy_operation_name\u001b[0m\u001b[0;34m)\u001b[0m\u001b[0;34m\u001b[0m\u001b[0;34m\u001b[0m\u001b[0m\n",
      "\u001b[0;32m~/anaconda3/envs/mxnet_latest_p37/lib/python3.7/site-packages/botocore/client.py\u001b[0m in \u001b[0;36m_make_api_call\u001b[0;34m(self, operation_name, api_params)\u001b[0m\n\u001b[1;32m    703\u001b[0m             \u001b[0merror_code\u001b[0m \u001b[0;34m=\u001b[0m \u001b[0mparsed_response\u001b[0m\u001b[0;34m.\u001b[0m\u001b[0mget\u001b[0m\u001b[0;34m(\u001b[0m\u001b[0;34m\"Error\"\u001b[0m\u001b[0;34m,\u001b[0m \u001b[0;34m{\u001b[0m\u001b[0;34m}\u001b[0m\u001b[0;34m)\u001b[0m\u001b[0;34m.\u001b[0m\u001b[0mget\u001b[0m\u001b[0;34m(\u001b[0m\u001b[0;34m\"Code\"\u001b[0m\u001b[0;34m)\u001b[0m\u001b[0;34m\u001b[0m\u001b[0;34m\u001b[0m\u001b[0m\n\u001b[1;32m    704\u001b[0m             \u001b[0merror_class\u001b[0m \u001b[0;34m=\u001b[0m \u001b[0mself\u001b[0m\u001b[0;34m.\u001b[0m\u001b[0mexceptions\u001b[0m\u001b[0;34m.\u001b[0m\u001b[0mfrom_code\u001b[0m\u001b[0;34m(\u001b[0m\u001b[0merror_code\u001b[0m\u001b[0;34m)\u001b[0m\u001b[0;34m\u001b[0m\u001b[0;34m\u001b[0m\u001b[0m\n\u001b[0;32m--> 705\u001b[0;31m             \u001b[0;32mraise\u001b[0m \u001b[0merror_class\u001b[0m\u001b[0;34m(\u001b[0m\u001b[0mparsed_response\u001b[0m\u001b[0;34m,\u001b[0m \u001b[0moperation_name\u001b[0m\u001b[0;34m)\u001b[0m\u001b[0;34m\u001b[0m\u001b[0;34m\u001b[0m\u001b[0m\n\u001b[0m\u001b[1;32m    706\u001b[0m         \u001b[0;32melse\u001b[0m\u001b[0;34m:\u001b[0m\u001b[0;34m\u001b[0m\u001b[0;34m\u001b[0m\u001b[0m\n\u001b[1;32m    707\u001b[0m             \u001b[0;32mreturn\u001b[0m \u001b[0mparsed_response\u001b[0m\u001b[0;34m\u001b[0m\u001b[0;34m\u001b[0m\u001b[0m\n",
      "\u001b[0;31mModelError\u001b[0m: An error occurred (ModelError) when calling the InvokeEndpoint operation: Received server error (503) from primary with message \"{\n  \"code\": 503,\n  \"type\": \"InternalServerException\",\n  \"message\": \"Prediction failed\"\n}\n\". See https://us-east-1.console.aws.amazon.com/cloudwatch/home?region=us-east-1#logEventViewer:group=/aws/sagemaker/Endpoints/DEMO-unet-g4dn-job-2021-09-27-12-13-11-2021-09-28-02-21-51-316 in account 741261399688 for more information."
     ]
    }
   ],
   "source": [
    "jsonstr=json.dumps(test_brain.tolist())\n",
    "predictor.predict(jsonstr)"
   ]
  },
  {
   "cell_type": "markdown",
   "id": "8cd4d1ab",
   "metadata": {},
   "source": [
    "### Deployment 2 through model artifect in S3 "
   ]
  },
  {
   "cell_type": "code",
   "execution_count": 79,
   "id": "d6385439",
   "metadata": {},
   "outputs": [
    {
     "data": {
      "text/plain": [
       "'s3://sagemaker-us-east-1-741261399688/DEMO-unet-g4dn-job-2021-09-27-10-03-53-2021-09-27-10-03-54-220/output/model.tar.gz'"
      ]
     },
     "execution_count": 79,
     "metadata": {},
     "output_type": "execute_result"
    }
   ],
   "source": [
    "s3_model"
   ]
  },
  {
   "cell_type": "code",
   "execution_count": 80,
   "id": "2a93aad9",
   "metadata": {},
   "outputs": [],
   "source": [
    "from sagemaker.mxnet.model import MXNetModel\n",
    "#s3_model='s3://sagemaker-us-east-1-741261399688/DEMO-p3-unet-job-2021-09-20-12-34-02-2021-09-20-12-34-03-294/source/sourcedir.tar.gz'\n",
    "mxnet_model = MXNetModel(\n",
    "    model_data=s3_model,\n",
    "    role=role,\n",
    "    framework_version='1.6',\n",
    "    py_version='py3',\n",
    "    entry_point=\"inference.py\",\n",
    "    #source_dir='./source_dir'\n",
    ")"
   ]
  },
  {
   "cell_type": "code",
   "execution_count": 81,
   "id": "e6e5ad14",
   "metadata": {},
   "outputs": [
    {
     "name": "stdout",
     "output_type": "stream",
     "text": [
      "-----------!CPU times: user 2.18 s, sys: 223 ms, total: 2.4 s\n",
      "Wall time: 5min 34s\n"
     ]
    }
   ],
   "source": [
    "%%time\n",
    "predictor = mxnet_model.deploy(instance_type='ml.m5.2xlarge', #local \n",
    "                               initial_instance_count=1)"
   ]
  },
  {
   "cell_type": "code",
   "execution_count": 96,
   "id": "7d106df0",
   "metadata": {},
   "outputs": [],
   "source": [
    "predictor.serializer = sagemaker.serializers.JSONSerializer(content_type='application/json')\n",
    "result=predictor.predict(jsonstr)"
   ]
  },
  {
   "cell_type": "code",
   "execution_count": 97,
   "id": "96723df1",
   "metadata": {},
   "outputs": [
    {
     "data": {
      "text/plain": [
       "{'endpoint_name': 'mxnet-inference-2021-09-28-07-57-04-815',\n",
       " 'sagemaker_session': <sagemaker.session.Session at 0x7fefbb7e9890>,\n",
       " 'serializer': <sagemaker.serializers.JSONSerializer at 0x7fefba3b9ed0>,\n",
       " 'deserializer': <sagemaker.deserializers.JSONDeserializer at 0x7fefd7337290>,\n",
       " '_endpoint_config_name': None,\n",
       " '_model_names': None,\n",
       " '_context': None}"
      ]
     },
     "execution_count": 97,
     "metadata": {},
     "output_type": "execute_result"
    }
   ],
   "source": [
    "predictor.__dict__"
   ]
  },
  {
   "cell_type": "code",
   "execution_count": 98,
   "id": "44a2d9a2",
   "metadata": {},
   "outputs": [],
   "source": [
    "test_mask = np.array(Image.open(os.path.join(\n",
    "    validation_dir, 'OAS1_0004_MR1_mpr_n4_anon_111_t88_26_mask.png')))[np.newaxis, np.newaxis, :]"
   ]
  },
  {
   "cell_type": "code",
   "execution_count": 112,
   "id": "3d1a30e5",
   "metadata": {},
   "outputs": [
    {
     "data": {
      "text/plain": [
       "0.0"
      ]
     },
     "execution_count": 112,
     "metadata": {},
     "output_type": "execute_result"
    }
   ],
   "source": [
    "result[0][1]"
   ]
  },
  {
   "cell_type": "code",
   "execution_count": 114,
   "id": "4dbf0999",
   "metadata": {},
   "outputs": [
    {
     "data": {
      "text/plain": [
       "array([[0., 0., 0., ..., 0., 0., 0.],\n",
       "       [0., 0., 0., ..., 0., 0., 0.],\n",
       "       [0., 0., 0., ..., 0., 0., 0.],\n",
       "       ...,\n",
       "       [0., 0., 0., ..., 0., 0., 0.],\n",
       "       [0., 0., 0., ..., 0., 0., 0.],\n",
       "       [0., 0., 0., ..., 0., 0., 0.]])"
      ]
     },
     "execution_count": 114,
     "metadata": {},
     "output_type": "execute_result"
    }
   ],
   "source": [
    "np.array(result)"
   ]
  },
  {
   "cell_type": "code",
   "execution_count": null,
   "id": "9622c596",
   "metadata": {},
   "outputs": [],
   "source": []
  },
  {
   "cell_type": "code",
   "execution_count": 116,
   "id": "356da9ad",
   "metadata": {},
   "outputs": [
    {
     "data": {
      "text/plain": [
       "<matplotlib.image.AxesImage at 0x7fefba0d8550>"
      ]
     },
     "execution_count": 116,
     "metadata": {},
     "output_type": "execute_result"
    },
    {
     "data": {
      "image/png": "[encoded data removed]",
      "text/plain": [
       "<Figure size 1008x1008 with 3 Axes>"
      ]
     },
     "metadata": {
      "needs_background": "light"
     },
     "output_type": "display_data"
    }
   ],
   "source": [
    "plt.figure(figsize=(14, 14))\n",
    "plt.subplot(131)\n",
    "plt.title('Input')\n",
    "plt.imshow(test_brain[0][0], cmap=plt.cm.gray)\n",
    "plt.subplot(132)\n",
    "plt.title('Ground Truth')\n",
    "plt.imshow(test_mask[0][0], cmap=plt.cm.gray)\n",
    "plt.subplot(133)\n",
    "plt.title('Prediction')\n",
    "#response = json.loads(result)\n",
    "plt.imshow(np.array(result), cmap=plt.cm.gray)"
   ]
  },
  {
   "cell_type": "code",
   "execution_count": null,
   "id": "8ce749c4",
   "metadata": {},
   "outputs": [],
   "source": []
  }
 ],
 "metadata": {
  "kernelspec": {
   "display_name": "conda_mxnet_latest_p37",
   "language": "python",
   "name": "conda_mxnet_latest_p37"
  },
  "language_info": {
   "codemirror_mode": {
    "name": "ipython",
    "version": 3
   },
   "file_extension": ".py",
   "mimetype": "text/x-python",
   "name": "python",
   "nbconvert_exporter": "python",
   "pygments_lexer": "ipython3",
   "version": "3.7.10"
  }
 },
 "nbformat": 4,
 "nbformat_minor": 5
}
